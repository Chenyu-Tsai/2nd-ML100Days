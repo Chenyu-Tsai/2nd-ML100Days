{
 "cells": [
  {
   "cell_type": "markdown",
   "metadata": {},
   "source": [
    "## Work\n",
    "1. 請嘗試將 preproc_x 替換成以每筆資料的 min/max 進行標準化至 -1 ~ 1 間，再進行訓練\n",
    "2. 請嘗試將 mlp 疊更深 (e.g 5~10 層)，進行訓練後觀察 learning curve 的走勢\n",
    "3. (optional) 請改用 GPU 進行訓練 (如果你有 GPU 的話)，比較使用 CPU 與 GPU 的訓練速度"
   ]
  },
  {
   "cell_type": "code",
   "execution_count": 1,
   "metadata": {},
   "outputs": [],
   "source": [
    "## \n",
    "\"\"\"\n",
    "Your code here (optional)\n",
    "確認硬體資源\n",
    "\"\"\"\n"
   ]
  },
  {
   "cell_type": "code",
   "execution_count": 23,
   "metadata": {},
   "outputs": [],
   "source": [
    "import os\n",
    "import keras\n",
    "from sklearn.preprocessing import MinMaxScaler\n",
    "scaler = MinMaxScaler()\n",
    "\n",
    "# 請嘗試設定 GPU：os.environ\n"
   ]
  },
  {
   "cell_type": "code",
   "execution_count": 24,
   "metadata": {},
   "outputs": [],
   "source": [
    "train, test = keras.datasets.cifar10.load_data()"
   ]
  },
  {
   "cell_type": "code",
   "execution_count": 100,
   "metadata": {},
   "outputs": [],
   "source": [
    "## 資料前處理\n",
    "\"\"\"\n",
    "Your code here\n",
    "\"\"\"\n",
    "def preproc_x(x, flatten=True):\n",
    "    if flatten:\n",
    "        x = scaler.transform(x.reshape((len(x), -1)))    \n",
    "    return x\n",
    "\n",
    "    \n",
    "def preproc_y(y, num_classes=10):\n",
    "    if y.shape[-1] == 1:\n",
    "        y = keras.utils.to_categorical(y, num_classes)\n",
    "    return y"
   ]
  },
  {
   "cell_type": "code",
   "execution_count": 101,
   "metadata": {},
   "outputs": [],
   "source": [
    "x_train, y_train = train\n",
    "x_test, y_test = test\n",
    "\n",
    "# Preproc the inputs\n",
    "x_train = preproc_x(x_train)\n",
    "x_test = preproc_x(x_test)\n",
    "\n",
    "# Preprc the outputs\n",
    "y_train = preproc_y(y_train)\n",
    "y_test = preproc_y(y_test)"
   ]
  },
  {
   "cell_type": "code",
   "execution_count": 106,
   "metadata": {},
   "outputs": [],
   "source": [
    "def build_mlp(input_shape, output_units=10, num_neurons=[512, 256, 128, 64, 32, 16, 8]):\n",
    "    input_layer = keras.layers.Input(input_shape)\n",
    "    \n",
    "    for i, n_units in enumerate(num_neurons):\n",
    "        if i == 0:\n",
    "            x = keras.layers.Dense(units=n_units, activation=\"relu\", name=\"hidden_layer\"+str(i+1))(input_layer)\n",
    "        else:\n",
    "            x = keras.layers.Dense(units=n_units, activation=\"relu\", name=\"hidden_layer\"+str(i+1))(x)\n",
    "    \n",
    "    out = keras.layers.Dense(units=output_units, activation=\"softmax\", name=\"output\")(x)\n",
    "    \n",
    "    model = keras.models.Model(inputs=[input_layer], outputs=[out])\n",
    "    return model"
   ]
  },
  {
   "cell_type": "code",
   "execution_count": 107,
   "metadata": {},
   "outputs": [
    {
     "name": "stdout",
     "output_type": "stream",
     "text": [
      "_________________________________________________________________\n",
      "Layer (type)                 Output Shape              Param #   \n",
      "=================================================================\n",
      "input_4 (InputLayer)         (None, 3072)              0         \n",
      "_________________________________________________________________\n",
      "hidden_layer1 (Dense)        (None, 512)               1573376   \n",
      "_________________________________________________________________\n",
      "hidden_layer2 (Dense)        (None, 256)               131328    \n",
      "_________________________________________________________________\n",
      "hidden_layer3 (Dense)        (None, 128)               32896     \n",
      "_________________________________________________________________\n",
      "hidden_layer4 (Dense)        (None, 64)                8256      \n",
      "_________________________________________________________________\n",
      "hidden_layer5 (Dense)        (None, 32)                2080      \n",
      "_________________________________________________________________\n",
      "hidden_layer6 (Dense)        (None, 16)                528       \n",
      "_________________________________________________________________\n",
      "hidden_layer7 (Dense)        (None, 8)                 136       \n",
      "_________________________________________________________________\n",
      "output (Dense)               (None, 10)                90        \n",
      "=================================================================\n",
      "Total params: 1,748,690\n",
      "Trainable params: 1,748,690\n",
      "Non-trainable params: 0\n",
      "_________________________________________________________________\n"
     ]
    }
   ],
   "source": [
    "model = build_mlp(input_shape=x_train.shape[1:])\n",
    "model.summary()"
   ]
  },
  {
   "cell_type": "code",
   "execution_count": 108,
   "metadata": {},
   "outputs": [],
   "source": [
    "## 超參數設定\n",
    "LEARNING_RATE = 0.001\n",
    "EPOCHS = 100\n",
    "BATCH_SIZE = 256"
   ]
  },
  {
   "cell_type": "code",
   "execution_count": 109,
   "metadata": {},
   "outputs": [],
   "source": [
    "optimizer = keras.optimizers.Adam(lr=LEARNING_RATE)\n",
    "model.compile(loss=\"categorical_crossentropy\", metrics=[\"accuracy\"], optimizer=optimizer)"
   ]
  },
  {
   "cell_type": "code",
   "execution_count": 110,
   "metadata": {},
   "outputs": [
    {
     "name": "stdout",
     "output_type": "stream",
     "text": [
      "WARNING:tensorflow:From /anaconda3/lib/python3.7/site-packages/tensorflow/python/ops/math_ops.py:3066: to_int32 (from tensorflow.python.ops.math_ops) is deprecated and will be removed in a future version.\n",
      "Instructions for updating:\n",
      "Use tf.cast instead.\n",
      "Train on 50000 samples, validate on 10000 samples\n",
      "Epoch 1/100\n",
      "50000/50000 [==============================] - 9s 176us/step - loss: 2.2234 - acc: 0.1556 - val_loss: 2.1036 - val_acc: 0.2109\n",
      "Epoch 2/100\n",
      "50000/50000 [==============================] - 8s 153us/step - loss: 2.0071 - acc: 0.2463 - val_loss: 1.9173 - val_acc: 0.2773\n",
      "Epoch 3/100\n",
      "50000/50000 [==============================] - 8s 158us/step - loss: 1.8555 - acc: 0.3066 - val_loss: 1.8772 - val_acc: 0.3186\n",
      "Epoch 4/100\n",
      "50000/50000 [==============================] - 8s 158us/step - loss: 1.7775 - acc: 0.3477 - val_loss: 1.8151 - val_acc: 0.3480\n",
      "Epoch 5/100\n",
      "50000/50000 [==============================] - 8s 157us/step - loss: 1.7154 - acc: 0.3760 - val_loss: 1.6950 - val_acc: 0.3813\n",
      "Epoch 6/100\n",
      "50000/50000 [==============================] - 8s 158us/step - loss: 1.6693 - acc: 0.3939 - val_loss: 1.6484 - val_acc: 0.3967\n",
      "Epoch 7/100\n",
      "50000/50000 [==============================] - 8s 159us/step - loss: 1.6213 - acc: 0.4134 - val_loss: 1.6347 - val_acc: 0.4048\n",
      "Epoch 8/100\n",
      "50000/50000 [==============================] - 8s 159us/step - loss: 1.5743 - acc: 0.4270 - val_loss: 1.5767 - val_acc: 0.4302\n",
      "Epoch 9/100\n",
      "50000/50000 [==============================] - 8s 160us/step - loss: 1.5469 - acc: 0.4380 - val_loss: 1.5783 - val_acc: 0.4256\n",
      "Epoch 10/100\n",
      "50000/50000 [==============================] - 8s 155us/step - loss: 1.5204 - acc: 0.4487 - val_loss: 1.5909 - val_acc: 0.4268\n",
      "Epoch 11/100\n",
      "50000/50000 [==============================] - 9s 171us/step - loss: 1.4911 - acc: 0.4614 - val_loss: 1.5181 - val_acc: 0.4558\n",
      "Epoch 12/100\n",
      "50000/50000 [==============================] - 7s 148us/step - loss: 1.4697 - acc: 0.4692 - val_loss: 1.5187 - val_acc: 0.4574\n",
      "Epoch 13/100\n",
      "50000/50000 [==============================] - 8s 153us/step - loss: 1.4461 - acc: 0.4816 - val_loss: 1.5023 - val_acc: 0.4681\n",
      "Epoch 14/100\n",
      "50000/50000 [==============================] - 8s 164us/step - loss: 1.4205 - acc: 0.4893 - val_loss: 1.4642 - val_acc: 0.4821\n",
      "Epoch 15/100\n",
      "50000/50000 [==============================] - 9s 179us/step - loss: 1.3921 - acc: 0.4988 - val_loss: 1.4920 - val_acc: 0.4736\n",
      "Epoch 16/100\n",
      "50000/50000 [==============================] - 7s 144us/step - loss: 1.3747 - acc: 0.5056 - val_loss: 1.4645 - val_acc: 0.4818\n",
      "Epoch 17/100\n",
      "50000/50000 [==============================] - 7s 136us/step - loss: 1.3553 - acc: 0.5163 - val_loss: 1.4582 - val_acc: 0.4845\n",
      "Epoch 18/100\n",
      "50000/50000 [==============================] - 7s 142us/step - loss: 1.3271 - acc: 0.5258 - val_loss: 1.4731 - val_acc: 0.4821\n",
      "Epoch 19/100\n",
      "50000/50000 [==============================] - 7s 138us/step - loss: 1.3135 - acc: 0.5291 - val_loss: 1.4826 - val_acc: 0.4906\n",
      "Epoch 20/100\n",
      "50000/50000 [==============================] - 7s 140us/step - loss: 1.2916 - acc: 0.5382 - val_loss: 1.4665 - val_acc: 0.4855\n",
      "Epoch 21/100\n",
      "50000/50000 [==============================] - 7s 139us/step - loss: 1.2738 - acc: 0.5423 - val_loss: 1.4287 - val_acc: 0.5028\n",
      "Epoch 22/100\n",
      "50000/50000 [==============================] - 7s 139us/step - loss: 1.2453 - acc: 0.5537 - val_loss: 1.4422 - val_acc: 0.4956\n",
      "Epoch 23/100\n",
      "50000/50000 [==============================] - 7s 141us/step - loss: 1.2363 - acc: 0.5574 - val_loss: 1.4682 - val_acc: 0.4856\n",
      "Epoch 24/100\n",
      "50000/50000 [==============================] - 7s 136us/step - loss: 1.2148 - acc: 0.5653 - val_loss: 1.4557 - val_acc: 0.5009\n",
      "Epoch 25/100\n",
      "50000/50000 [==============================] - 7s 143us/step - loss: 1.1884 - acc: 0.5746 - val_loss: 1.4517 - val_acc: 0.4981\n",
      "Epoch 26/100\n",
      "50000/50000 [==============================] - 7s 136us/step - loss: 1.1717 - acc: 0.5809 - val_loss: 1.4509 - val_acc: 0.5038\n",
      "Epoch 27/100\n",
      "50000/50000 [==============================] - 7s 140us/step - loss: 1.1543 - acc: 0.5858 - val_loss: 1.4373 - val_acc: 0.5094\n",
      "Epoch 28/100\n",
      "50000/50000 [==============================] - 7s 139us/step - loss: 1.1340 - acc: 0.5941 - val_loss: 1.4406 - val_acc: 0.5107\n",
      "Epoch 29/100\n",
      "50000/50000 [==============================] - 7s 137us/step - loss: 1.1155 - acc: 0.6008 - val_loss: 1.4625 - val_acc: 0.5083\n",
      "Epoch 30/100\n",
      "50000/50000 [==============================] - 7s 144us/step - loss: 1.1026 - acc: 0.6065 - val_loss: 1.4628 - val_acc: 0.5073\n",
      "Epoch 31/100\n",
      "50000/50000 [==============================] - 7s 142us/step - loss: 1.0801 - acc: 0.6125 - val_loss: 1.4926 - val_acc: 0.5070\n",
      "Epoch 32/100\n",
      "50000/50000 [==============================] - 7s 144us/step - loss: 1.0583 - acc: 0.6202 - val_loss: 1.5047 - val_acc: 0.4888\n",
      "Epoch 33/100\n",
      "50000/50000 [==============================] - 7s 144us/step - loss: 1.0510 - acc: 0.6229 - val_loss: 1.4626 - val_acc: 0.5086\n",
      "Epoch 34/100\n",
      "50000/50000 [==============================] - 7s 137us/step - loss: 1.0323 - acc: 0.6304 - val_loss: 1.5078 - val_acc: 0.5063\n",
      "Epoch 35/100\n",
      "50000/50000 [==============================] - 7s 139us/step - loss: 1.0093 - acc: 0.6373 - val_loss: 1.5165 - val_acc: 0.4999\n",
      "Epoch 36/100\n",
      "50000/50000 [==============================] - 7s 141us/step - loss: 1.0052 - acc: 0.6402 - val_loss: 1.4897 - val_acc: 0.5065\n",
      "Epoch 37/100\n",
      "50000/50000 [==============================] - 7s 144us/step - loss: 0.9866 - acc: 0.6454 - val_loss: 1.5401 - val_acc: 0.5037\n",
      "Epoch 38/100\n",
      "50000/50000 [==============================] - 7s 144us/step - loss: 0.9735 - acc: 0.6519 - val_loss: 1.6073 - val_acc: 0.4948\n",
      "Epoch 39/100\n",
      "50000/50000 [==============================] - 7s 143us/step - loss: 0.9563 - acc: 0.6575 - val_loss: 1.5774 - val_acc: 0.4989\n",
      "Epoch 40/100\n",
      "50000/50000 [==============================] - 7s 140us/step - loss: 0.9249 - acc: 0.6669 - val_loss: 1.5944 - val_acc: 0.4989\n",
      "Epoch 41/100\n",
      "50000/50000 [==============================] - 7s 144us/step - loss: 0.9161 - acc: 0.6714 - val_loss: 1.6064 - val_acc: 0.5045\n",
      "Epoch 42/100\n",
      "50000/50000 [==============================] - 7s 144us/step - loss: 0.9007 - acc: 0.6777 - val_loss: 1.6741 - val_acc: 0.4944\n",
      "Epoch 43/100\n",
      "50000/50000 [==============================] - 7s 145us/step - loss: 0.8996 - acc: 0.6773 - val_loss: 1.6222 - val_acc: 0.5071\n",
      "Epoch 44/100\n",
      "50000/50000 [==============================] - 8s 154us/step - loss: 0.8775 - acc: 0.6834 - val_loss: 1.6184 - val_acc: 0.5058\n",
      "Epoch 45/100\n",
      "50000/50000 [==============================] - 7s 141us/step - loss: 0.8685 - acc: 0.6893 - val_loss: 1.6480 - val_acc: 0.5078\n",
      "Epoch 46/100\n",
      "50000/50000 [==============================] - 7s 139us/step - loss: 0.8607 - acc: 0.6906 - val_loss: 1.6537 - val_acc: 0.4985\n",
      "Epoch 47/100\n",
      "50000/50000 [==============================] - 7s 138us/step - loss: 0.8280 - acc: 0.7018 - val_loss: 1.6755 - val_acc: 0.5114\n",
      "Epoch 48/100\n",
      "50000/50000 [==============================] - 7s 138us/step - loss: 0.8173 - acc: 0.7058 - val_loss: 1.6891 - val_acc: 0.5128\n",
      "Epoch 49/100\n",
      "50000/50000 [==============================] - 7s 139us/step - loss: 0.8102 - acc: 0.7081 - val_loss: 1.7581 - val_acc: 0.5002\n",
      "Epoch 50/100\n",
      "50000/50000 [==============================] - 7s 138us/step - loss: 0.7876 - acc: 0.7165 - val_loss: 1.7551 - val_acc: 0.4986\n",
      "Epoch 51/100\n",
      "50000/50000 [==============================] - 7s 138us/step - loss: 0.7820 - acc: 0.7202 - val_loss: 1.7680 - val_acc: 0.5048\n",
      "Epoch 52/100\n",
      "50000/50000 [==============================] - 7s 139us/step - loss: 0.7692 - acc: 0.7236 - val_loss: 1.7999 - val_acc: 0.5023\n",
      "Epoch 53/100\n",
      "50000/50000 [==============================] - 7s 136us/step - loss: 0.7664 - acc: 0.7250 - val_loss: 1.8103 - val_acc: 0.5075\n",
      "Epoch 54/100\n",
      "50000/50000 [==============================] - 7s 138us/step - loss: 0.7432 - acc: 0.7316 - val_loss: 1.8754 - val_acc: 0.5047\n",
      "Epoch 55/100\n",
      "50000/50000 [==============================] - 7s 139us/step - loss: 0.7337 - acc: 0.7358 - val_loss: 1.9106 - val_acc: 0.4999\n",
      "Epoch 56/100\n",
      "50000/50000 [==============================] - 7s 139us/step - loss: 0.7318 - acc: 0.7365 - val_loss: 1.9158 - val_acc: 0.5069\n",
      "Epoch 57/100\n"
     ]
    },
    {
     "name": "stdout",
     "output_type": "stream",
     "text": [
      "50000/50000 [==============================] - 7s 138us/step - loss: 0.7111 - acc: 0.7451 - val_loss: 1.9079 - val_acc: 0.5047\n",
      "Epoch 58/100\n",
      "50000/50000 [==============================] - 7s 136us/step - loss: 0.6994 - acc: 0.7482 - val_loss: 1.8746 - val_acc: 0.5018\n",
      "Epoch 59/100\n",
      "50000/50000 [==============================] - 7s 138us/step - loss: 0.7013 - acc: 0.7473 - val_loss: 1.8875 - val_acc: 0.4938\n",
      "Epoch 60/100\n",
      "50000/50000 [==============================] - 7s 139us/step - loss: 0.6880 - acc: 0.7518 - val_loss: 1.9280 - val_acc: 0.5029\n",
      "Epoch 61/100\n",
      "50000/50000 [==============================] - 7s 138us/step - loss: 0.6627 - acc: 0.7615 - val_loss: 2.0247 - val_acc: 0.5047\n",
      "Epoch 62/100\n",
      "50000/50000 [==============================] - 7s 136us/step - loss: 0.6715 - acc: 0.7579 - val_loss: 2.0526 - val_acc: 0.4982\n",
      "Epoch 63/100\n",
      "50000/50000 [==============================] - 7s 138us/step - loss: 0.6481 - acc: 0.7689 - val_loss: 2.0708 - val_acc: 0.5000\n",
      "Epoch 64/100\n",
      "50000/50000 [==============================] - 7s 137us/step - loss: 0.6431 - acc: 0.7686 - val_loss: 2.1154 - val_acc: 0.5013\n",
      "Epoch 65/100\n",
      "50000/50000 [==============================] - 7s 139us/step - loss: 0.6396 - acc: 0.7699 - val_loss: 2.0804 - val_acc: 0.4980\n",
      "Epoch 66/100\n",
      "50000/50000 [==============================] - 7s 138us/step - loss: 0.6325 - acc: 0.7729 - val_loss: 2.1356 - val_acc: 0.4991\n",
      "Epoch 67/100\n",
      "50000/50000 [==============================] - 7s 138us/step - loss: 0.6123 - acc: 0.7799 - val_loss: 2.1542 - val_acc: 0.5034\n",
      "Epoch 68/100\n",
      "50000/50000 [==============================] - 7s 135us/step - loss: 0.6031 - acc: 0.7829 - val_loss: 2.1562 - val_acc: 0.4995\n",
      "Epoch 69/100\n",
      "50000/50000 [==============================] - 7s 139us/step - loss: 0.5976 - acc: 0.7859 - val_loss: 2.3207 - val_acc: 0.4789\n",
      "Epoch 70/100\n",
      "50000/50000 [==============================] - 7s 139us/step - loss: 0.6046 - acc: 0.7824 - val_loss: 2.1716 - val_acc: 0.4996\n",
      "Epoch 71/100\n",
      "50000/50000 [==============================] - 7s 139us/step - loss: 0.5959 - acc: 0.7846 - val_loss: 2.1689 - val_acc: 0.4954\n",
      "Epoch 72/100\n",
      "50000/50000 [==============================] - 7s 139us/step - loss: 0.5754 - acc: 0.7948 - val_loss: 2.2727 - val_acc: 0.4872\n",
      "Epoch 73/100\n",
      "50000/50000 [==============================] - 7s 139us/step - loss: 0.5762 - acc: 0.7927 - val_loss: 2.2519 - val_acc: 0.5002\n",
      "Epoch 74/100\n",
      "50000/50000 [==============================] - 7s 137us/step - loss: 0.5621 - acc: 0.8003 - val_loss: 2.2937 - val_acc: 0.4947\n",
      "Epoch 75/100\n",
      "50000/50000 [==============================] - 7s 138us/step - loss: 0.5476 - acc: 0.8031 - val_loss: 2.3188 - val_acc: 0.4973\n",
      "Epoch 76/100\n",
      "50000/50000 [==============================] - 7s 138us/step - loss: 0.5516 - acc: 0.8031 - val_loss: 2.2959 - val_acc: 0.4944\n",
      "Epoch 77/100\n",
      "50000/50000 [==============================] - 7s 130us/step - loss: 0.5482 - acc: 0.8035 - val_loss: 2.3975 - val_acc: 0.4975\n",
      "Epoch 78/100\n",
      "50000/50000 [==============================] - 7s 140us/step - loss: 0.5508 - acc: 0.8049 - val_loss: 2.3393 - val_acc: 0.4855\n",
      "Epoch 79/100\n",
      "50000/50000 [==============================] - 7s 139us/step - loss: 0.5341 - acc: 0.8087 - val_loss: 2.3031 - val_acc: 0.4960\n",
      "Epoch 80/100\n",
      "50000/50000 [==============================] - 7s 139us/step - loss: 0.5362 - acc: 0.8078 - val_loss: 2.4109 - val_acc: 0.4908\n",
      "Epoch 81/100\n",
      "50000/50000 [==============================] - 7s 139us/step - loss: 0.5156 - acc: 0.8163 - val_loss: 2.3663 - val_acc: 0.4963\n",
      "Epoch 82/100\n",
      "50000/50000 [==============================] - 7s 139us/step - loss: 0.5229 - acc: 0.8124 - val_loss: 2.3942 - val_acc: 0.4971\n",
      "Epoch 83/100\n",
      "50000/50000 [==============================] - 7s 139us/step - loss: 0.5075 - acc: 0.8184 - val_loss: 2.4860 - val_acc: 0.4947\n",
      "Epoch 84/100\n",
      "50000/50000 [==============================] - 7s 138us/step - loss: 0.5059 - acc: 0.8181 - val_loss: 2.5147 - val_acc: 0.4891\n",
      "Epoch 85/100\n",
      "50000/50000 [==============================] - 7s 139us/step - loss: 0.4866 - acc: 0.8248 - val_loss: 2.5055 - val_acc: 0.4914\n",
      "Epoch 86/100\n",
      "50000/50000 [==============================] - 7s 139us/step - loss: 0.4854 - acc: 0.8265 - val_loss: 2.5619 - val_acc: 0.4907\n",
      "Epoch 87/100\n",
      "50000/50000 [==============================] - 7s 138us/step - loss: 0.4959 - acc: 0.8229 - val_loss: 2.5535 - val_acc: 0.4959\n",
      "Epoch 88/100\n",
      "50000/50000 [==============================] - 7s 139us/step - loss: 0.5007 - acc: 0.8232 - val_loss: 2.4867 - val_acc: 0.4954\n",
      "Epoch 89/100\n",
      "50000/50000 [==============================] - 7s 140us/step - loss: 0.4828 - acc: 0.8284 - val_loss: 2.5666 - val_acc: 0.4909\n",
      "Epoch 90/100\n",
      "50000/50000 [==============================] - 7s 138us/step - loss: 0.4581 - acc: 0.8352 - val_loss: 2.5223 - val_acc: 0.4988\n",
      "Epoch 91/100\n",
      "50000/50000 [==============================] - 7s 139us/step - loss: 0.4649 - acc: 0.8340 - val_loss: 2.6073 - val_acc: 0.4944\n",
      "Epoch 92/100\n",
      "50000/50000 [==============================] - 7s 139us/step - loss: 0.4738 - acc: 0.8309 - val_loss: 2.6207 - val_acc: 0.4923\n",
      "Epoch 93/100\n",
      "50000/50000 [==============================] - 7s 144us/step - loss: 0.4514 - acc: 0.8381 - val_loss: 2.6719 - val_acc: 0.4916\n",
      "Epoch 94/100\n",
      "50000/50000 [==============================] - 8s 168us/step - loss: 0.4324 - acc: 0.8436 - val_loss: 2.6719 - val_acc: 0.4866\n",
      "Epoch 95/100\n",
      "50000/50000 [==============================] - 8s 161us/step - loss: 0.4643 - acc: 0.8346 - val_loss: 2.7733 - val_acc: 0.4831\n",
      "Epoch 96/100\n",
      "50000/50000 [==============================] - 8s 164us/step - loss: 0.4455 - acc: 0.8401 - val_loss: 2.7350 - val_acc: 0.4938\n",
      "Epoch 97/100\n",
      "50000/50000 [==============================] - 8s 155us/step - loss: 0.4258 - acc: 0.8479 - val_loss: 2.7476 - val_acc: 0.4965\n",
      "Epoch 98/100\n",
      "50000/50000 [==============================] - 8s 159us/step - loss: 0.4480 - acc: 0.8421 - val_loss: 2.6985 - val_acc: 0.4937\n",
      "Epoch 99/100\n",
      "50000/50000 [==============================] - 8s 157us/step - loss: 0.4424 - acc: 0.8430 - val_loss: 2.7903 - val_acc: 0.4866\n",
      "Epoch 100/100\n",
      "50000/50000 [==============================] - 8s 155us/step - loss: 0.4115 - acc: 0.8526 - val_loss: 2.8069 - val_acc: 0.4894\n"
     ]
    },
    {
     "data": {
      "text/plain": [
       "<keras.callbacks.History at 0x14903a898>"
      ]
     },
     "execution_count": 110,
     "metadata": {},
     "output_type": "execute_result"
    }
   ],
   "source": [
    "model.fit(x_train, y_train, \n",
    "          epochs=EPOCHS, \n",
    "          batch_size=BATCH_SIZE, \n",
    "          validation_data=(x_test, y_test), \n",
    "          shuffle=True)"
   ]
  },
  {
   "cell_type": "code",
   "execution_count": 112,
   "metadata": {},
   "outputs": [
    {
     "data": {
      "image/png": "[encoded data removed]",
      "text/plain": [
       "<Figure size 432x288 with 1 Axes>"
      ]
     },
     "metadata": {
      "needs_background": "light"
     },
     "output_type": "display_data"
    },
    {
     "data": {
      "image/png": "[encoded data removed]",
      "text/plain": [
       "<Figure size 432x288 with 1 Axes>"
      ]
     },
     "metadata": {
      "needs_background": "light"
     },
     "output_type": "display_data"
    }
   ],
   "source": [
    "import matplotlib.pyplot as plt\n",
    "\n",
    "\n",
    "train_loss = model.history.history[\"loss\"]\n",
    "valid_loss = model.history.history[\"val_loss\"]\n",
    "\n",
    "train_acc = model.history.history[\"acc\"]\n",
    "valid_acc = model.history.history[\"val_acc\"]\n",
    "\n",
    "plt.plot(range(len(train_loss)), train_loss, label=\"train loss\")\n",
    "plt.plot(range(len(valid_loss)), valid_loss, label=\"valid loss\")\n",
    "plt.legend()\n",
    "plt.title(\"Loss\")\n",
    "plt.show()\n",
    "\n",
    "plt.plot(range(len(train_acc)), train_acc, label=\"train accuracy\")\n",
    "plt.plot(range(len(valid_acc)), valid_acc, label=\"valid accuracy\")\n",
    "plt.legend()\n",
    "plt.title(\"Accuracy\")\n",
    "plt.show()"
   ]
  },
  {
   "cell_type": "code",
   "execution_count": null,
   "metadata": {},
   "outputs": [],
   "source": []
  }
 ],
 "metadata": {
  "kernelspec": {
   "display_name": "Python 3",
   "language": "python",
   "name": "python3"
  },
  "language_info": {
   "codemirror_mode": {
    "name": "ipython",
    "version": 3
   },
   "file_extension": ".py",
   "mimetype": "text/x-python",
   "name": "python",
   "nbconvert_exporter": "python",
   "pygments_lexer": "ipython3",
   "version": "3.7.1"
  }
 },
 "nbformat": 4,
 "nbformat_minor": 2
}
