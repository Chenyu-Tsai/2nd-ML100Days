{
 "cells": [
  {
   "cell_type": "markdown",
   "metadata": {},
   "source": [
    "## 練習時間"
   ]
  },
  {
   "cell_type": "markdown",
   "metadata": {},
   "source": [
    "請觀看台大電機李宏毅教授的影片。李教授會用非常淺顯易懂的方式介紹甚麼是機器學習。\n"
   ]
  },
  {
   "cell_type": "markdown",
   "metadata": {},
   "source": [
    "[youtube](https://www.youtube.com/watch?v=CXgbekl66jc)"
   ]
  },
  {
   "cell_type": "markdown",
   "metadata": {},
   "source": [
    "## 請找出一個你認為機器學習可以發光發熱的領域並闡述原因? "
   ]
  },
  {
   "cell_type": "markdown",
   "metadata": {},
   "source": [
    "遊戲業\n",
    "\n",
    "遊戲業的類型很多，以角色扮演為例子好了，在玩這個類型遊戲的玩家，多數是享受浸於這個環境的，遊戲的環境等於是具現了一個想像的世界，這個想像的世界感受起來愈真實，玩家的沈浸感就愈強烈，黏著度進而提高。\n",
    "\n",
    "透過 AI ，我們可讓遊戲中的物件，可能是人物、動物、植被等等，更貼近於真實世界，何謂貼近真實世界，以人為例，每一個人和不同人互動時的方式、感受、應答是不同的，我們的可以透過 AI 來根據玩家在遊戲中的行為、遊玩方式、說話內容來客製出一個專屬於這個玩家的互動物件，讓每一個玩家的遊戲體驗都是獨一無二的。\n",
    "\n",
    "當然，這只是我的想像。"
   ]
  }
 ],
 "metadata": {
  "kernelspec": {
   "display_name": "Python 3",
   "language": "python",
   "name": "python3"
  },
  "language_info": {
   "codemirror_mode": {
    "name": "ipython",
    "version": 3
   },
   "file_extension": ".py",
   "mimetype": "text/x-python",
   "name": "python",
   "nbconvert_exporter": "python",
   "pygments_lexer": "ipython3",
   "version": "3.7.1"
  }
 },
 "nbformat": 4,
 "nbformat_minor": 2
}
