{
 "cells": [
  {
   "cell_type": "code",
   "execution_count": 11,
   "metadata": {},
   "outputs": [],
   "source": [
    "from tensorflow import keras\n",
    "batch_size = 32\n",
    "num_classes = 10\n",
    "epochs = 10"
   ]
  },
  {
   "cell_type": "code",
   "execution_count": 2,
   "metadata": {},
   "outputs": [
    {
     "name": "stderr",
     "output_type": "stream",
     "text": [
      "W0811 13:17:38.598859 16812 deprecation.py:506] From C:\\Users\\Skyno\\Anaconda3\\envs\\tensorflow-gpu\\lib\\site-packages\\tensorflow\\python\\ops\\init_ops.py:1251: calling VarianceScaling.__init__ (from tensorflow.python.ops.init_ops) with dtype is deprecated and will be removed in a future version.\n",
      "Instructions for updating:\n",
      "Call initializer instance with the dtype argument instead of passing it to the constructor\n"
     ]
    }
   ],
   "source": [
    "from tensorflow.keras.models import Sequential\n",
    "from tensorflow.keras.layers import Dense, Dropout, Activation, Flatten\n",
    "from tensorflow.keras.layers import Conv2D, MaxPooling2D\n",
    "\n",
    "model = Sequential()\n",
    "model.add(Conv2D(32, (3, 3), padding='same',\n",
    "                 input_shape=[32,32,3]))\n",
    "model.add(Activation('relu'))\n",
    "model.add(Conv2D(64, (3, 3)))\n",
    "model.add(Activation('relu'))\n",
    "model.add(MaxPooling2D(pool_size=(2, 2)))\n",
    "model.add(Dropout(0.25))\n",
    "\n",
    "model.add(Conv2D(128, (3, 3), padding='same'))\n",
    "model.add(Activation('relu'))\n",
    "model.add(Conv2D(256, (3, 3)))\n",
    "model.add(Activation('relu'))\n",
    "model.add(MaxPooling2D(pool_size=(2, 2)))\n",
    "model.add(Dropout(0.25))\n",
    "\n",
    "model.add(Flatten())\n",
    "model.add(Dense(512))\n",
    "model.add(Activation('relu'))\n",
    "model.add(Dropout(0.5))\n",
    "model.add(Dense(num_classes))\n",
    "model.add(Activation('softmax'))\n",
    "#model.summary()"
   ]
  },
  {
   "cell_type": "code",
   "execution_count": 3,
   "metadata": {},
   "outputs": [],
   "source": [
    "model.save_weights(\"tmp.h5\")\n"
   ]
  },
  {
   "cell_type": "code",
   "execution_count": 4,
   "metadata": {},
   "outputs": [
    {
     "name": "stdout",
     "output_type": "stream",
     "text": [
      "x_train shape: (50000, 32, 32, 3)\n",
      "50000 train samples\n",
      "10000 test samples\n"
     ]
    }
   ],
   "source": [
    "from tensorflow.keras.datasets import cifar10\n",
    "(x_train, y_train), (x_test, y_test) = cifar10.load_data()\n",
    "print('x_train shape:', x_train.shape)\n",
    "print(x_train.shape[0], 'train samples')\n",
    "print(x_test.shape[0], 'test samples')\n",
    "x_train = x_train.astype('float32')\n",
    "x_test = x_test.astype('float32')\n",
    "x_train /= 255\n",
    "x_test /= 255\n",
    "\n",
    "# Convert class vectors to binary class matrices.\n",
    "y_train = keras.utils.to_categorical(y_train, num_classes)\n",
    "y_test = keras.utils.to_categorical(y_test, num_classes)"
   ]
  },
  {
   "cell_type": "code",
   "execution_count": 5,
   "metadata": {},
   "outputs": [],
   "source": [
    "def cifar_generator(total_size, batch_size=32):\n",
    "    while True:\n",
    "        for indexs in range(0, total_size, batch_size):\n",
    "            images = x_train[indexs: indexs+batch_size]\n",
    "            labels = y_train[indexs: indexs+batch_size]\n",
    "            yield images, labels\n",
    "            \n",
    "cifar_gen = cifar_generator(len(x_train), batch_size)"
   ]
  },
  {
   "cell_type": "code",
   "execution_count": 12,
   "metadata": {},
   "outputs": [
    {
     "name": "stdout",
     "output_type": "stream",
     "text": [
      "Epoch 1/10\n",
      "1562/1562 [==============================] - 22s 14ms/step - loss: 1.9363 - acc: 0.2767 - val_loss: 1.6862 - val_acc: 0.3745\n",
      "Epoch 2/10\n",
      "1562/1562 [==============================] - 21s 13ms/step - loss: 1.6299 - acc: 0.4003 - val_loss: 1.3819 - val_acc: 0.4997\n",
      "Epoch 3/10\n",
      "1562/1562 [==============================] - 21s 13ms/step - loss: 1.4699 - acc: 0.4632 - val_loss: 1.3112 - val_acc: 0.5348\n",
      "Epoch 4/10\n",
      "1562/1562 [==============================] - 21s 13ms/step - loss: 1.3452 - acc: 0.5148 - val_loss: 1.1588 - val_acc: 0.5849\n",
      "Epoch 5/10\n",
      "1562/1562 [==============================] - 21s 13ms/step - loss: 1.2615 - acc: 0.5481 - val_loss: 1.0371 - val_acc: 0.6308\n",
      "Epoch 6/10\n",
      "1562/1562 [==============================] - 21s 14ms/step - loss: 1.1879 - acc: 0.5763 - val_loss: 1.0183 - val_acc: 0.6340\n",
      "Epoch 7/10\n",
      "1562/1562 [==============================] - 21s 13ms/step - loss: 1.1405 - acc: 0.5980 - val_loss: 0.9222 - val_acc: 0.6743\n",
      "Epoch 8/10\n",
      "1562/1562 [==============================] - 21s 13ms/step - loss: 1.0895 - acc: 0.6193 - val_loss: 0.8968 - val_acc: 0.6842\n",
      "Epoch 9/10\n",
      "1562/1562 [==============================] - 21s 13ms/step - loss: 1.0561 - acc: 0.6302 - val_loss: 0.8407 - val_acc: 0.7013\n",
      "Epoch 10/10\n",
      "1562/1562 [==============================] - 21s 13ms/step - loss: 1.0279 - acc: 0.6408 - val_loss: 0.8238 - val_acc: 0.7102\n",
      "Test loss: 0.8236487405776978\n",
      "Test accuracy: 0.7102\n"
     ]
    }
   ],
   "source": [
    "model.load_weights(\"tmp.h5\")\n",
    "model.compile(loss='categorical_crossentropy',\n",
    "              optimizer=keras.optimizers.SGD(0.01, 0.9),\n",
    "              metrics=['accuracy'])\n",
    "\n",
    "history = model.fit_generator(cifar_gen,\n",
    "                              steps_per_epoch=len(x_train)//batch_size,\n",
    "                              epochs=epochs,\n",
    "                              verbose=1,\n",
    "                              validation_data=(x_test, y_test))\n",
    "score = model.evaluate(x_test, y_test, verbose=0)\n",
    "print('Test loss:', score[0])\n",
    "print('Test accuracy:', score[1])"
   ]
  },
  {
   "cell_type": "code",
   "execution_count": 7,
   "metadata": {},
   "outputs": [],
   "source": [
    "from tensorflow.keras.preprocessing.image import ImageDataGenerator\n",
    "\n",
    "data_generator = ImageDataGenerator(\n",
    "    rotation_range=20,\n",
    "    width_shift_range=0.2,\n",
    "    height_shift_range=0.2,\n",
    "    horizontal_flip=True)"
   ]
  },
  {
   "cell_type": "code",
   "execution_count": 8,
   "metadata": {},
   "outputs": [
    {
     "name": "stdout",
     "output_type": "stream",
     "text": [
      "x_train shape: (50000, 32, 32, 3)\n",
      "50000 train samples\n",
      "10000 test samples\n"
     ]
    }
   ],
   "source": [
    "(x_train, y_train), (x_test, y_test) = cifar10.load_data()\n",
    "print('x_train shape:', x_train.shape)\n",
    "print(x_train.shape[0], 'train samples')\n",
    "print(x_test.shape[0], 'test samples')\n",
    "x_test = x_test.astype('float32')\n",
    "x_test /= 255\n",
    "\n",
    "# Convert class vectors to binary class matrices.\n",
    "y_train = keras.utils.to_categorical(y_train, num_classes)\n",
    "y_test = keras.utils.to_categorical(y_test, num_classes)"
   ]
  },
  {
   "cell_type": "code",
   "execution_count": 9,
   "metadata": {},
   "outputs": [],
   "source": [
    "def cifar_aug_generator(total_size, batch_size=32):\n",
    "    while True:\n",
    "        for indexs in range(0, total_size, batch_size):\n",
    "            images = x_train[indexs: indexs+batch_size]\n",
    "            labels = y_train[indexs: indexs+batch_size]\n",
    "            images = next(data_generator.flow(images, shuffle=False))\n",
    "            images = images.astype('float32')\n",
    "            images /= 255\n",
    "            yield images, labels\n",
    "             \n",
    "cifar_gen = cifar_aug_generator(len(x_train), batch_size)"
   ]
  },
  {
   "cell_type": "code",
   "execution_count": 13,
   "metadata": {},
   "outputs": [
    {
     "name": "stdout",
     "output_type": "stream",
     "text": [
      "Epoch 1/10\n",
      "1562/1562 [==============================] - 21s 13ms/step - loss: 1.9411 - acc: 0.2740 - val_loss: 1.5812 - val_acc: 0.4063\n",
      "Epoch 2/10\n",
      "1562/1562 [==============================] - 21s 13ms/step - loss: 1.6291 - acc: 0.3997 - val_loss: 1.2884 - val_acc: 0.5319\n",
      "Epoch 3/10\n",
      "1562/1562 [==============================] - 20s 13ms/step - loss: 1.4611 - acc: 0.4678 - val_loss: 1.2374 - val_acc: 0.5642\n",
      "Epoch 4/10\n",
      "1562/1562 [==============================] - 20s 13ms/step - loss: 1.3488 - acc: 0.5137 - val_loss: 1.1585 - val_acc: 0.5950\n",
      "Epoch 5/10\n",
      "1562/1562 [==============================] - 20s 13ms/step - loss: 1.2678 - acc: 0.5439 - val_loss: 1.1219 - val_acc: 0.6128\n",
      "Epoch 6/10\n",
      "1562/1562 [==============================] - 20s 13ms/step - loss: 1.1941 - acc: 0.5746 - val_loss: 1.0215 - val_acc: 0.6360\n",
      "Epoch 7/10\n",
      "1562/1562 [==============================] - 21s 13ms/step - loss: 1.1419 - acc: 0.5938 - val_loss: 1.0003 - val_acc: 0.6547\n",
      "Epoch 8/10\n",
      "1562/1562 [==============================] - 20s 13ms/step - loss: 1.1008 - acc: 0.6108 - val_loss: 0.9908 - val_acc: 0.6618\n",
      "Epoch 9/10\n",
      "1562/1562 [==============================] - 20s 13ms/step - loss: 1.0661 - acc: 0.6256 - val_loss: 0.8427 - val_acc: 0.7046\n",
      "Epoch 10/10\n",
      "1562/1562 [==============================] - 20s 13ms/step - loss: 1.0283 - acc: 0.6380 - val_loss: 0.8858 - val_acc: 0.6953\n",
      "Test loss: 0.885856929397583\n",
      "Test accuracy: 0.6953\n"
     ]
    }
   ],
   "source": [
    "\n",
    "model.load_weights(\"tmp.h5\")\n",
    "model.compile(loss='categorical_crossentropy',\n",
    "              optimizer=keras.optimizers.SGD(0.01, 0.9),\n",
    "              metrics=['accuracy'])\n",
    "\n",
    "history = model.fit_generator(cifar_gen,\n",
    "                              steps_per_epoch=len(x_train)//batch_size,\n",
    "                              epochs=epochs,\n",
    "                              verbose=1,\n",
    "                              validation_data=(x_test, y_test))\n",
    "score = model.evaluate(x_test, y_test, verbose=0)\n",
    "print('Test loss:', score[0])\n",
    "print('Test accuracy:', score[1])"
   ]
  },
  {
   "cell_type": "code",
   "execution_count": null,
   "metadata": {},
   "outputs": [],
   "source": []
  }
 ],
 "metadata": {
  "kernelspec": {
   "display_name": "Python [default]",
   "language": "python",
   "name": "python3"
  },
  "language_info": {
   "codemirror_mode": {
    "name": "ipython",
    "version": 3
   },
   "file_extension": ".py",
   "mimetype": "text/x-python",
   "name": "python",
   "nbconvert_exporter": "python",
   "pygments_lexer": "ipython3",
   "version": "3.5.6"
  }
 },
 "nbformat": 4,
 "nbformat_minor": 2
}
