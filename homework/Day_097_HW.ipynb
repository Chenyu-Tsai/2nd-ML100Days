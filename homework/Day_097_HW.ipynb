{
 "cells": [
  {
   "cell_type": "code",
   "execution_count": 11,
   "metadata": {},
   "outputs": [],
   "source": [
    "import keras\n",
    "from keras.datasets import cifar10\n",
    "from keras.preprocessing.image import ImageDataGenerator\n",
    "from keras.models import Sequential\n",
    "from keras.layers import Dense, Dropout, Activation, Flatten\n",
    "from keras.layers import Conv2D, MaxPooling2D\n",
    "from keras.optimizers import RMSprop, Adam, Adadelta\n",
    "import os"
   ]
  },
  {
   "cell_type": "code",
   "execution_count": 2,
   "metadata": {},
   "outputs": [
    {
     "name": "stdout",
     "output_type": "stream",
     "text": [
      "x_train shape: (50000, 32, 32, 3)\n",
      "50000 train samples\n",
      "10000 test samples\n"
     ]
    }
   ],
   "source": [
    "batch_size = 128 # batch 的大小，如果出現 OOM error，請降低這個值\n",
    "num_classes = 10 # 類別的數量，Cifar 10 共有 10 個類別\n",
    "epochs = 10 # 訓練的 epochs 數量\n",
    "\n",
    "# 讀取資料並檢視\n",
    "(x_train, y_train), (x_test, y_test) = cifar10.load_data()\n",
    "print('x_train shape:', x_train.shape)\n",
    "print(x_train.shape[0], 'train samples')\n",
    "print(x_test.shape[0], 'test samples')\n",
    "\n",
    "# 對 label 進行 one-hot encoding (y_trian 原本是純數字)\n",
    "y_train = keras.utils.to_categorical(y_train, num_classes)\n",
    "y_test = keras.utils.to_categorical(y_test, num_classes)"
   ]
  },
  {
   "cell_type": "markdown",
   "metadata": {},
   "source": [
    "## 首先我們使用一般的 DNN (MLP) 來訓練\n",
    "由於 DNN 只能輸入一維的資料，我們要先將影像進行攤平，若 (50000, 32, 32, 3) 的影像，攤平後會變成 (50000, 32*32*3) = (50000, 3072)"
   ]
  },
  {
   "cell_type": "code",
   "execution_count": 3,
   "metadata": {},
   "outputs": [
    {
     "name": "stdout",
     "output_type": "stream",
     "text": [
      "50000 train samples\n",
      "10000 test samples\n"
     ]
    }
   ],
   "source": [
    "# 將資料攤平成一維資料\n",
    "x_train = x_train.reshape(50000, 3072) \n",
    "x_test = x_test.reshape(10000, 3072)\n",
    "\n",
    "# 將資料變為 float32 並標準化\n",
    "x_train = x_train.astype('float32')\n",
    "x_test = x_test.astype('float32')\n",
    "x_train /= 255\n",
    "x_test /= 255\n",
    "print(x_train.shape[0], 'train samples')\n",
    "print(x_test.shape[0], 'test samples')"
   ]
  },
  {
   "cell_type": "code",
   "execution_count": 4,
   "metadata": {},
   "outputs": [
    {
     "name": "stderr",
     "output_type": "stream",
     "text": [
      "W0810 18:03:16.597251 16908 deprecation_wrapper.py:119] From C:\\Users\\Skyno\\Anaconda3\\envs\\tensorflow-gpu\\lib\\site-packages\\keras\\backend\\tensorflow_backend.py:74: The name tf.get_default_graph is deprecated. Please use tf.compat.v1.get_default_graph instead.\n",
      "\n",
      "W0810 18:03:16.599174 16908 deprecation_wrapper.py:119] From C:\\Users\\Skyno\\Anaconda3\\envs\\tensorflow-gpu\\lib\\site-packages\\keras\\backend\\tensorflow_backend.py:517: The name tf.placeholder is deprecated. Please use tf.compat.v1.placeholder instead.\n",
      "\n",
      "W0810 18:03:16.615766 16908 deprecation.py:506] From C:\\Users\\Skyno\\Anaconda3\\envs\\tensorflow-gpu\\lib\\site-packages\\keras\\backend\\tensorflow_backend.py:3445: calling dropout (from tensorflow.python.ops.nn_ops) with keep_prob is deprecated and will be removed in a future version.\n",
      "Instructions for updating:\n",
      "Please use `rate` instead of `keep_prob`. Rate should be set to `rate = 1 - keep_prob`.\n",
      "W0810 18:03:16.661664 16908 deprecation_wrapper.py:119] From C:\\Users\\Skyno\\Anaconda3\\envs\\tensorflow-gpu\\lib\\site-packages\\keras\\optimizers.py:790: The name tf.train.Optimizer is deprecated. Please use tf.compat.v1.train.Optimizer instead.\n",
      "\n",
      "W0810 18:03:16.726058 16908 deprecation.py:323] From C:\\Users\\Skyno\\Anaconda3\\envs\\tensorflow-gpu\\lib\\site-packages\\tensorflow\\python\\ops\\math_grad.py:1250: add_dispatch_support.<locals>.wrapper (from tensorflow.python.ops.array_ops) is deprecated and will be removed in a future version.\n",
      "Instructions for updating:\n",
      "Use tf.where in 2.0, which has the same broadcast rule as np.where\n"
     ]
    },
    {
     "name": "stdout",
     "output_type": "stream",
     "text": [
      "_________________________________________________________________\n",
      "Layer (type)                 Output Shape              Param #   \n",
      "=================================================================\n",
      "dense_1 (Dense)              (None, 512)               1573376   \n",
      "_________________________________________________________________\n",
      "dropout_1 (Dropout)          (None, 512)               0         \n",
      "_________________________________________________________________\n",
      "dense_2 (Dense)              (None, 512)               262656    \n",
      "_________________________________________________________________\n",
      "dropout_2 (Dropout)          (None, 512)               0         \n",
      "_________________________________________________________________\n",
      "dense_3 (Dense)              (None, 10)                5130      \n",
      "=================================================================\n",
      "Total params: 1,841,162\n",
      "Trainable params: 1,841,162\n",
      "Non-trainable params: 0\n",
      "_________________________________________________________________\n",
      "Train on 50000 samples, validate on 10000 samples\n",
      "Epoch 1/10\n",
      "50000/50000 [==============================] - 3s 56us/step - loss: 2.2418 - acc: 0.2469 - val_loss: 1.8521 - val_acc: 0.3165\n",
      "Epoch 2/10\n",
      "50000/50000 [==============================] - 2s 42us/step - loss: 1.8547 - acc: 0.3285 - val_loss: 1.7522 - val_acc: 0.3788\n",
      "Epoch 3/10\n",
      "50000/50000 [==============================] - 2s 42us/step - loss: 1.7843 - acc: 0.3593 - val_loss: 1.7779 - val_acc: 0.3665\n",
      "Epoch 4/10\n",
      "50000/50000 [==============================] - 2s 42us/step - loss: 1.7434 - acc: 0.3749 - val_loss: 1.6462 - val_acc: 0.4177\n",
      "Epoch 5/10\n",
      "50000/50000 [==============================] - 2s 43us/step - loss: 1.7083 - acc: 0.3878 - val_loss: 1.6519 - val_acc: 0.4053\n",
      "Epoch 6/10\n",
      "50000/50000 [==============================] - 2s 45us/step - loss: 1.6820 - acc: 0.3950 - val_loss: 1.6096 - val_acc: 0.4273\n",
      "Epoch 7/10\n",
      "50000/50000 [==============================] - 2s 44us/step - loss: 1.6651 - acc: 0.4044 - val_loss: 1.6253 - val_acc: 0.4325\n",
      "Epoch 8/10\n",
      "50000/50000 [==============================] - 2s 43us/step - loss: 1.6425 - acc: 0.4108 - val_loss: 1.6582 - val_acc: 0.3956\n",
      "Epoch 9/10\n",
      "50000/50000 [==============================] - 2s 43us/step - loss: 1.6248 - acc: 0.4167 - val_loss: 1.6013 - val_acc: 0.4387\n",
      "Epoch 10/10\n",
      "50000/50000 [==============================] - 2s 42us/step - loss: 1.6154 - acc: 0.4227 - val_loss: 1.5353 - val_acc: 0.4668\n",
      "Test loss: 1.5352586387634277\n",
      "Test accuracy: 0.4668\n"
     ]
    }
   ],
   "source": [
    "model = Sequential()\n",
    "model.add(Dense(512, activation='relu', input_shape=(3072,)))\n",
    "model.add(Dropout(0.2))\n",
    "model.add(Dense(512, activation='relu'))\n",
    "model.add(Dropout(0.2))\n",
    "model.add(Dense(num_classes, activation='softmax'))\n",
    "\n",
    "model.summary()\n",
    "\n",
    "model.compile(loss='categorical_crossentropy',\n",
    "              optimizer=RMSprop(),\n",
    "              metrics=['accuracy'])\n",
    "\n",
    "history = model.fit(x_train, y_train,\n",
    "                    batch_size=batch_size,\n",
    "                    epochs=epochs,\n",
    "                    verbose=1,\n",
    "                    validation_data=(x_test, y_test))\n",
    "score = model.evaluate(x_test, y_test, verbose=0)\n",
    "print('Test loss:', score[0])\n",
    "print('Test accuracy:', score[1])"
   ]
  },
  {
   "cell_type": "markdown",
   "metadata": {},
   "source": [
    "## 接下來我們使用 CNN 來訓練神經網路\n",
    "CNN 的原理非常適合處理影像類的資料，就讓我們來看看，同樣的訓練條件，CNN 是否顯著優於 DNN 呢?"
   ]
  },
  {
   "cell_type": "code",
   "execution_count": 5,
   "metadata": {},
   "outputs": [
    {
     "name": "stdout",
     "output_type": "stream",
     "text": [
      "x_train shape: (50000, 32, 32, 3)\n",
      "50000 train samples\n",
      "10000 test samples\n"
     ]
    }
   ],
   "source": [
    "(x_train, y_train), (x_test, y_test) = cifar10.load_data()\n",
    "print('x_train shape:', x_train.shape)\n",
    "print(x_train.shape[0], 'train samples')\n",
    "print(x_test.shape[0], 'test samples')\n",
    "x_train = x_train.astype('float32')\n",
    "x_test = x_test.astype('float32')\n",
    "x_train /= 255\n",
    "x_test /= 255\n",
    "\n",
    "# Convert class vectors to binary class matrices.\n",
    "y_train = keras.utils.to_categorical(y_train, num_classes)\n",
    "y_test = keras.utils.to_categorical(y_test, num_classes)"
   ]
  },
  {
   "cell_type": "code",
   "execution_count": 14,
   "metadata": {},
   "outputs": [
    {
     "name": "stdout",
     "output_type": "stream",
     "text": [
      "_________________________________________________________________\n",
      "Layer (type)                 Output Shape              Param #   \n",
      "=================================================================\n",
      "conv2d_29 (Conv2D)           (None, 32, 32, 64)        1792      \n",
      "_________________________________________________________________\n",
      "activation_43 (Activation)   (None, 32, 32, 64)        0         \n",
      "_________________________________________________________________\n",
      "conv2d_30 (Conv2D)           (None, 30, 30, 64)        36928     \n",
      "_________________________________________________________________\n",
      "activation_44 (Activation)   (None, 30, 30, 64)        0         \n",
      "_________________________________________________________________\n",
      "max_pooling2d_15 (MaxPooling (None, 15, 15, 64)        0         \n",
      "_________________________________________________________________\n",
      "dropout_24 (Dropout)         (None, 15, 15, 64)        0         \n",
      "_________________________________________________________________\n",
      "conv2d_31 (Conv2D)           (None, 15, 15, 128)       73856     \n",
      "_________________________________________________________________\n",
      "activation_45 (Activation)   (None, 15, 15, 128)       0         \n",
      "_________________________________________________________________\n",
      "conv2d_32 (Conv2D)           (None, 13, 13, 128)       147584    \n",
      "_________________________________________________________________\n",
      "activation_46 (Activation)   (None, 13, 13, 128)       0         \n",
      "_________________________________________________________________\n",
      "max_pooling2d_16 (MaxPooling (None, 6, 6, 128)         0         \n",
      "_________________________________________________________________\n",
      "dropout_25 (Dropout)         (None, 6, 6, 128)         0         \n",
      "_________________________________________________________________\n",
      "flatten_8 (Flatten)          (None, 4608)              0         \n",
      "_________________________________________________________________\n",
      "dense_18 (Dense)             (None, 512)               2359808   \n",
      "_________________________________________________________________\n",
      "activation_47 (Activation)   (None, 512)               0         \n",
      "_________________________________________________________________\n",
      "dropout_26 (Dropout)         (None, 512)               0         \n",
      "_________________________________________________________________\n",
      "dense_19 (Dense)             (None, 10)                5130      \n",
      "_________________________________________________________________\n",
      "activation_48 (Activation)   (None, 10)                0         \n",
      "=================================================================\n",
      "Total params: 2,625,098\n",
      "Trainable params: 2,625,098\n",
      "Non-trainable params: 0\n",
      "_________________________________________________________________\n",
      "Train on 50000 samples, validate on 10000 samples\n",
      "Epoch 1/20\n",
      "50000/50000 [==============================] - 13s 251us/step - loss: 1.6140 - acc: 0.4096 - val_loss: 1.2047 - val_acc: 0.5665\n",
      "Epoch 2/20\n",
      "50000/50000 [==============================] - 11s 229us/step - loss: 1.1685 - acc: 0.5847 - val_loss: 0.9934 - val_acc: 0.6492\n",
      "Epoch 3/20\n",
      "50000/50000 [==============================] - 11s 229us/step - loss: 0.9742 - acc: 0.6576 - val_loss: 0.8851 - val_acc: 0.6906\n",
      "Epoch 4/20\n",
      "50000/50000 [==============================] - 11s 228us/step - loss: 0.8545 - acc: 0.6992 - val_loss: 0.7760 - val_acc: 0.7300\n",
      "Epoch 5/20\n",
      "50000/50000 [==============================] - 11s 230us/step - loss: 0.7672 - acc: 0.7315 - val_loss: 0.7754 - val_acc: 0.7354\n",
      "Epoch 6/20\n",
      "50000/50000 [==============================] - 11s 229us/step - loss: 0.7018 - acc: 0.7536 - val_loss: 0.7430 - val_acc: 0.7448\n",
      "Epoch 7/20\n",
      "50000/50000 [==============================] - 11s 229us/step - loss: 0.6543 - acc: 0.7708 - val_loss: 0.6539 - val_acc: 0.7739\n",
      "Epoch 8/20\n",
      "50000/50000 [==============================] - 11s 229us/step - loss: 0.6083 - acc: 0.7874 - val_loss: 0.6579 - val_acc: 0.7796\n",
      "Epoch 9/20\n",
      "50000/50000 [==============================] - 11s 229us/step - loss: 0.5635 - acc: 0.8015 - val_loss: 0.6425 - val_acc: 0.7822\n",
      "Epoch 10/20\n",
      "50000/50000 [==============================] - 11s 230us/step - loss: 0.5318 - acc: 0.8118 - val_loss: 0.6569 - val_acc: 0.7782\n",
      "Epoch 11/20\n",
      "50000/50000 [==============================] - 12s 230us/step - loss: 0.5018 - acc: 0.8221 - val_loss: 0.6008 - val_acc: 0.7984\n",
      "Epoch 12/20\n",
      "50000/50000 [==============================] - 12s 230us/step - loss: 0.4750 - acc: 0.8315 - val_loss: 0.6105 - val_acc: 0.7942\n",
      "Epoch 13/20\n",
      "50000/50000 [==============================] - 11s 230us/step - loss: 0.4518 - acc: 0.8387 - val_loss: 0.6028 - val_acc: 0.8029\n",
      "Epoch 14/20\n",
      "50000/50000 [==============================] - 11s 230us/step - loss: 0.4269 - acc: 0.8489 - val_loss: 0.6161 - val_acc: 0.7977\n",
      "Epoch 15/20\n",
      "50000/50000 [==============================] - 12s 232us/step - loss: 0.4054 - acc: 0.8563 - val_loss: 0.5911 - val_acc: 0.8045\n",
      "Epoch 16/20\n",
      "50000/50000 [==============================] - 12s 230us/step - loss: 0.3832 - acc: 0.8623 - val_loss: 0.5937 - val_acc: 0.8070\n",
      "Epoch 17/20\n",
      "50000/50000 [==============================] - 11s 229us/step - loss: 0.3712 - acc: 0.8687 - val_loss: 0.6153 - val_acc: 0.8067\n",
      "Epoch 18/20\n",
      "50000/50000 [==============================] - 12s 230us/step - loss: 0.3577 - acc: 0.8730 - val_loss: 0.5964 - val_acc: 0.8069\n",
      "Epoch 19/20\n",
      "50000/50000 [==============================] - 12s 231us/step - loss: 0.3432 - acc: 0.8779 - val_loss: 0.6115 - val_acc: 0.8056\n",
      "Epoch 20/20\n",
      "50000/50000 [==============================] - 11s 230us/step - loss: 0.3301 - acc: 0.8823 - val_loss: 0.6142 - val_acc: 0.8092\n",
      "Test loss: 0.6142116749048233\n",
      "Test accuracy: 0.8092\n"
     ]
    }
   ],
   "source": [
    "model = Sequential()\n",
    "model.add(Conv2D(64, (3, 3), padding='same',\n",
    "                 input_shape=x_train.shape[1:]))\n",
    "model.add(Activation('relu'))\n",
    "model.add(Conv2D(64, (3, 3)))\n",
    "model.add(Activation('relu'))\n",
    "model.add(MaxPooling2D(pool_size=(2, 2)))\n",
    "model.add(Dropout(0.25))\n",
    "\n",
    "model.add(Conv2D(128, (3, 3), padding='same'))\n",
    "model.add(Activation('relu'))\n",
    "model.add(Conv2D(128, (3, 3)))\n",
    "model.add(Activation('relu'))\n",
    "model.add(MaxPooling2D(pool_size=(2, 2)))\n",
    "model.add(Dropout(0.25))\n",
    "\n",
    "model.add(Flatten())\n",
    "model.add(Dense(512))\n",
    "model.add(Activation('relu'))\n",
    "model.add(Dropout(0.5))\n",
    "model.add(Dense(num_classes))\n",
    "model.add(Activation('softmax'))\n",
    "model.summary()\n",
    "\n",
    "model.compile(loss='categorical_crossentropy',\n",
    "              optimizer=Adam(),\n",
    "              metrics=['accuracy'])\n",
    "\n",
    "history = model.fit(x_train, y_train,\n",
    "                    batch_size=batch_size,\n",
    "                    epochs=20,\n",
    "                    verbose=1,\n",
    "                    shuffle=True,\n",
    "                    validation_data=(x_test, y_test))\n",
    "score = model.evaluate(x_test, y_test, verbose=0)\n",
    "print('Test loss:', score[0])\n",
    "print('Test accuracy:', score[1])"
   ]
  },
  {
   "cell_type": "markdown",
   "metadata": {},
   "source": [
    "## 同樣運算 10 個 epochs，但 CNN 在 test data 的準確率顯著優於 DNN!"
   ]
  },
  {
   "cell_type": "markdown",
   "metadata": {},
   "source": [
    "## 作業\n",
    "1. 請試著調整各個超參數，並說明那些超參數對於結果有明顯的影響?\n",
    "調整優化器，加入shuffle, 提高 filter 數量都能夠提高準確率。\n",
    "2. CNN 與 DNN 哪個模型的參數數量比較多? 造成參數的數量不同的原因在哪?\n",
    "因為 CNN 先透過卷積和池化萃取特徵圖，之後接入全連接層時才不會造成參數暴增"
   ]
  },
  {
   "cell_type": "code",
   "execution_count": null,
   "metadata": {},
   "outputs": [],
   "source": []
  }
 ],
 "metadata": {
  "kernelspec": {
   "display_name": "Python [default]",
   "language": "python",
   "name": "python3"
  },
  "language_info": {
   "codemirror_mode": {
    "name": "ipython",
    "version": 3
   },
   "file_extension": ".py",
   "mimetype": "text/x-python",
   "name": "python",
   "nbconvert_exporter": "python",
   "pygments_lexer": "ipython3",
   "version": "3.5.6"
  }
 },
 "nbformat": 4,
 "nbformat_minor": 2
}
