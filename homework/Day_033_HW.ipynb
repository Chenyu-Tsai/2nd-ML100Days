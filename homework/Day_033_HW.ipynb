{
 "cells": [
  {
   "cell_type": "markdown",
   "metadata": {},
   "source": [
    "## 練習時間"
   ]
  },
  {
   "cell_type": "markdown",
   "metadata": {},
   "source": [
    "請觀看李宏毅教授以神奇寶貝進化 CP 值預測的範例，解說何謂機器學習與過擬合。並回答以下問題"
   ]
  },
  {
   "cell_type": "markdown",
   "metadata": {},
   "source": [
    "[youtube](https://www.youtube.com/watch?v=fegAeph9UaA)"
   ]
  },
  {
   "cell_type": "markdown",
   "metadata": {},
   "source": [
    "### 1. 模型的泛化能力 (generalization) 是指什麼？ \n",
    "### 2. 分類問題與回歸問題分別可用的目標函數有哪些？"
   ]
  },
  {
   "cell_type": "markdown",
   "metadata": {},
   "source": [
    "1. 模型的泛化能力指的是，在面對新的資料時，模型的預設能力如何。因為模型好壞的評判最終還是來自於對未知事物的預測，例如過擬合的模型，在訓練集上的表現很好，但是遇上了訓練集之外的新資料就沒輒了，欠擬合的就連原本的訓練資料都搞不定了。因此我們在說一個模型有好的泛化能力，就是說他能夠在遇上新資料時，保持優秀的適應能力，來做出良好的預測。\n",
    "\n",
    "2. Regression 常用的 Loss Function：均方誤差 (Mean Square Error, MSE) 和平均絕對值誤差 (Mean Absolute Error, MAE)。\n",
    "   Classification 常用的 Loss Function：交叉熵 (Cross-Entropy)"
   ]
  }
 ],
 "metadata": {
  "kernelspec": {
   "display_name": "Python 3",
   "language": "python",
   "name": "python3"
  },
  "language_info": {
   "codemirror_mode": {
    "name": "ipython",
    "version": 3
   },
   "file_extension": ".py",
   "mimetype": "text/x-python",
   "name": "python",
   "nbconvert_exporter": "python",
   "pygments_lexer": "ipython3",
   "version": "3.7.1"
  }
 },
 "nbformat": 4,
 "nbformat_minor": 2
}
